{
 "cells": [
  {
   "cell_type": "code",
   "execution_count": 7,
   "metadata": {},
   "outputs": [],
   "source": [
    "import os\n",
    "from pathlib import Path\n",
    "from pdf2image import convert_from_path"
   ]
  },
  {
   "cell_type": "code",
   "execution_count": 8,
   "metadata": {},
   "outputs": [],
   "source": [
    "pdf_folder = os.path.join(os.getcwd(), 'pdf')\n",
    "image_folder = os.path.join(os.getcwd(), 'Test Images')"
   ]
  },
  {
   "cell_type": "code",
   "execution_count": 10,
   "metadata": {},
   "outputs": [
    {
     "name": "stdout",
     "output_type": "stream",
     "text": [
      "MDLZ_Data Extraction SOW 09-30 signed.pdf\n"
     ]
    }
   ],
   "source": [
    "file = os.listdir(pdf_folder)[0]\n",
    "pages = convert_from_path(os.path.join(pdf_folder, file), poppler_path=r'C:\\\\Program Files\\\\poppler-0.68.0\\\\bin')\n",
    "for i, image in enumerate(pages):\n",
    "    if i == 0:\n",
    "        image_name = 'image' + str(i) + '.png'\n",
    "        print(file)\n",
    "        # image_path = os.path.join(image_folder, image_name)\n",
    "        image.save(Path(image_folder).resolve() / image_name)"
   ]
  }
 ],
 "metadata": {
  "kernelspec": {
   "display_name": "Python 3",
   "language": "python",
   "name": "python3"
  },
  "language_info": {
   "codemirror_mode": {
    "name": "ipython",
    "version": 3
   },
   "file_extension": ".py",
   "mimetype": "text/x-python",
   "name": "python",
   "nbconvert_exporter": "python",
   "pygments_lexer": "ipython3",
   "version": "3.8.10"
  },
  "orig_nbformat": 4,
  "vscode": {
   "interpreter": {
    "hash": "9650cb4e16cdd4a8e8e2d128bf38d875813998db22a3c986335f89e0cb4d7bb2"
   }
  }
 },
 "nbformat": 4,
 "nbformat_minor": 2
}
